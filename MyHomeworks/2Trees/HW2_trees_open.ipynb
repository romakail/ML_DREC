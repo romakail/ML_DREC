{
 "cells": [
  {
   "cell_type": "code",
   "execution_count": 1,
   "metadata": {
    "deletable": false,
    "editable": false,
    "nbgrader": {
     "cell_type": "code",
     "checksum": "5950c5ccef4feb8e1959ae6d60f943f3",
     "grade": false,
     "grade_id": "cell-3c1e3dd57c039e79",
     "locked": true,
     "schema_version": 2,
     "solution": false
    }
   },
   "outputs": [],
   "source": [
    "import numpy as np\n",
    "from nose.tools import assert_almost_equal, assert_almost_equals, assert_equal"
   ]
  },
  {
   "cell_type": "markdown",
   "metadata": {},
   "source": [
    "Ответами на задачи являются функции. Они будут проверены автоматическими тестами на стороне сервера. \n",
    "\n",
    "Некоторые тесты выполняются локально для самопроверки."
   ]
  },
  {
   "cell_type": "code",
   "execution_count": 2,
   "metadata": {},
   "outputs": [
    {
     "name": "stdout",
     "output_type": "stream",
     "text": [
      "[[1. 1. 1.]\n",
      " [1. 1. 1.]\n",
      " [1. 1. 1.]\n",
      " [1. 1. 1.]\n",
      " [1. 1. 1.]\n",
      " [1. 1. 1.]\n",
      " [1. 1. 1.]\n",
      " [1. 1. 1.]\n",
      " [1. 1. 1.]\n",
      " [1. 1. 1.]]\n",
      "[1 2 3]\n",
      "[[1. 2. 3.]\n",
      " [1. 2. 3.]\n",
      " [1. 2. 3.]\n",
      " [1. 2. 3.]\n",
      " [1. 2. 3.]\n",
      " [1. 2. 3.]\n",
      " [1. 2. 3.]\n",
      " [1. 2. 3.]\n",
      " [1. 2. 3.]\n",
      " [1. 2. 3.]]\n"
     ]
    }
   ],
   "source": [
    "a = np.ones ((10, 3))\n",
    "print (a)\n",
    "b = np.array ([1, 2, 3])\n",
    "print (b)\n",
    "print (a*b)"
   ]
  },
  {
   "cell_type": "markdown",
   "metadata": {
    "deletable": false,
    "editable": false,
    "nbgrader": {
     "cell_type": "markdown",
     "checksum": "309050f12c2cd1e0607de9d9d80587ff",
     "grade": false,
     "grade_id": "cell-52a946809eb3b2b1",
     "locked": true,
     "schema_version": 2,
     "solution": false
    }
   },
   "source": [
    "### Вопросы для самоконтроля \n",
    "Эта часть задания не оценивается, ответы можно не записывать\n",
    "1. Что такое решающее дерево? Как по построенному дереву найти прогноз для объекта?\n",
    "2. Почему для любой выборки можно построить дерево, имеющее нулевую ошибку на ней? Приведите примеры.\n",
    "3. Почему не рекомендуется строить небинарные деревья (имеющие более двух потомков у каждой вершины)?\n",
    "4. Как устроен жадный алгоритм построения дерева?\n",
    "5. Какие критерии информативности для решения задачи классификации вы знаете?\n",
    "6. Какой смысл у критерия Джини и энтропийного критерия?\n",
    "7. Какие критерии информативности для решения задачи регрессии вы знаете?\n",
    "8. Что такое pruning (стрижка) дерева? Чем отличаются post-pruning и pre-pruning?\n",
    "9. Какие методы обработки пропущенных значений вы знаете?\n",
    "10. Как учитывать категориальные признаки в решающем дереве?"
   ]
  },
  {
   "cell_type": "markdown",
   "metadata": {
    "deletable": false,
    "editable": false,
    "nbgrader": {
     "cell_type": "markdown",
     "checksum": "86041458f1b06eb827252bfc73db828f",
     "grade": false,
     "grade_id": "cell-37ec90a597dbcb94",
     "locked": true,
     "schema_version": 2,
     "solution": false
    }
   },
   "source": [
    "### Критерии информативности (45%)\n",
    "\n",
    "Критерий информативности для набора объектов $R$ вычисляется на основе того, насколько хорошо их целевые переменные предсказываются константой (при оптимальном выборе этой константы):\n",
    "$$\n",
    "H(R) = \\min_{c \\in Y} \\dfrac{1}{|R|} \\sum_{(x^i,y^i) \\in R} L(y^i, c),\n",
    "$$\n",
    "где $L(y^i, c)$- некоторая функция потерь. Соответственно, чтобы получить вид критерия при конкретной функции потерь, можно аналитически найти оптимальное значение константы и подставить его в формулу для $H(R)$. \n",
    "\n",
    "\n",
    "Выведите критерии информативности для следующих функций потерь:\n",
    "\n",
    "Для задачи регрессии,\n",
    "1. $L(y,c) = (y-c)^2$, где $y$ - скаляр, c - константа.\n",
    "\n",
    "Для задачи классификации на $K$ классов, с дополнительным ограничением\n",
    "$$c = [c_1,\\ldots,c_k], 0 \\leq c_i \\leq 1 \\forall i, \\sum_{k=1}^K c_k = 1,$$\n",
    "2. $L(y,c) = \\sum_{k=1}^K (c_k-[y_k=1])^2$,  где $y$ - это one-hot вектор, $y_k$ - его элемент k-тый элемент, $c$ - вектор вероятностей.\n",
    "3. $L(y,c) = -\\sum_{k=1}^K [y_k=1]\\log c_k$,  где $y$ - это one-hot вектор, $y_k$ - его элемент k-тый элемент, $c$ - вектор вероятностей."
   ]
  },
  {
   "cell_type": "code",
   "execution_count": 3,
   "metadata": {
    "deletable": false,
    "nbgrader": {
     "cell_type": "code",
     "checksum": "fab408c19e93ad17bf671c27a29fb8c9",
     "grade": false,
     "grade_id": "cell-31727dddb5db8ea8",
     "locked": false,
     "schema_version": 2,
     "solution": true
    }
   },
   "outputs": [],
   "source": [
    "def L_1(y, c):\n",
    "    return (y - c) ** 2\n",
    "\n",
    "def H_1(ys):\n",
    "    \"\"\"\n",
    "    ys is a 1-dimentional numpy array containing y values for every object from R.\n",
    "    \"\"\"\n",
    "    c = np.mean(ys)\n",
    "    h = np.power (ys - c, 2).mean()  \n",
    "    \n",
    "    return h"
   ]
  },
  {
   "cell_type": "code",
   "execution_count": 4,
   "metadata": {
    "deletable": false,
    "nbgrader": {
     "cell_type": "code",
     "checksum": "2436a242dbf09f6c9b4c11c4f9913370",
     "grade": false,
     "grade_id": "cell-ea41d739253e63e8",
     "locked": false,
     "schema_version": 2,
     "solution": true
    }
   },
   "outputs": [],
   "source": [
    "def H_2(ys):\n",
    "    \"\"\"\n",
    "    ys is a numpy array with shape (num_items, num_classes).\n",
    "    Where each row is a one-vector of class probabilities (e.g. [0, 0, 1] for object of class 2 from 0, 1, 2).\n",
    "    \"\"\" \n",
    "    c = np.mean (ys, axis=0)\n",
    "    h = np.mean(np.sum(np.power(c - ys, 2), axis=1), axis=0)\n",
    "    \n",
    "    return h"
   ]
  },
  {
   "cell_type": "code",
   "execution_count": 5,
   "metadata": {
    "deletable": false,
    "nbgrader": {
     "cell_type": "code",
     "checksum": "af8c73b41fee9d754555b844c63aa880",
     "grade": false,
     "grade_id": "cell-7da8c0dbdaff104d",
     "locked": false,
     "schema_version": 2,
     "solution": true
    }
   },
   "outputs": [],
   "source": [
    "epsilon = 1e-5\n",
    "def H_3(ys):\n",
    "    \"\"\"\n",
    "    ys is a numpy array with shape (num_items, num_classes).\n",
    "    Where each row is a one-vector of class probabilities (e.g. [0, 0, 1] for object of class 2 from 0, 1, 2).\n",
    "    log2 should be used as logarithm. \n",
    "    Do not forget to add epsilon to the probabitlities vector in the logarithm.\n",
    "    \"\"\"\n",
    "    \n",
    "    c = np.mean (ys, axis=0)\n",
    "    h = np.mean(np.sum (- ys * np.log2(c + epsilon), axis=1))\n",
    "    \n",
    "    return h"
   ]
  },
  {
   "cell_type": "code",
   "execution_count": 6,
   "metadata": {
    "deletable": false,
    "editable": false,
    "nbgrader": {
     "cell_type": "code",
     "checksum": "320e05e9cca6e94e39128fd7b7f0abdb",
     "grade": false,
     "grade_id": "cell-c038f70fddf97b50",
     "locked": true,
     "schema_version": 2,
     "solution": false
    }
   },
   "outputs": [],
   "source": [
    "a_r = np.arange(10)\n",
    "b_r = np.ones(10)\n",
    "c_r = np.arange(25)/10."
   ]
  },
  {
   "cell_type": "code",
   "execution_count": 7,
   "metadata": {
    "deletable": false,
    "editable": false,
    "nbgrader": {
     "cell_type": "code",
     "checksum": "04a38c788666adcb8d1d5c6e6401988a",
     "grade": true,
     "grade_id": "cell-54768e34c617ea33",
     "locked": true,
     "points": 15,
     "schema_version": 2,
     "solution": false
    }
   },
   "outputs": [],
   "source": [
    "assert_equal(H_1(a_r), 8.25)\n",
    "assert_equal(H_1(b_r), 0.0)\n",
    "assert_equal(H_1(c_r), 0.52)"
   ]
  },
  {
   "cell_type": "code",
   "execution_count": 8,
   "metadata": {
    "deletable": false,
    "editable": false,
    "nbgrader": {
     "cell_type": "code",
     "checksum": "cd99e33a1257072cbc740c818df308e0",
     "grade": false,
     "grade_id": "cell-fb6df7971f2dc48d",
     "locked": true,
     "schema_version": 2,
     "solution": false
    }
   },
   "outputs": [
    {
     "name": "stdout",
     "output_type": "stream",
     "text": [
      "a:\n",
      "[[1. 0.]\n",
      " [1. 0.]\n",
      " [1. 0.]\n",
      " [1. 0.]\n",
      " [1. 0.]\n",
      " [1. 0.]\n",
      " [1. 0.]\n",
      " [1. 0.]\n",
      " [1. 0.]\n",
      " [1. 0.]]\n",
      "b:\n",
      "[[1. 0.]\n",
      " [1. 0.]\n",
      " [1. 0.]\n",
      " [1. 0.]\n",
      " [1. 0.]\n",
      " [0. 1.]\n",
      " [0. 1.]\n",
      " [0. 1.]\n",
      " [0. 1.]\n",
      " [0. 1.]]\n",
      "c:\n",
      "[[1. 0.]\n",
      " [1. 0.]\n",
      " [1. 0.]\n",
      " [1. 0.]\n",
      " [1. 0.]\n",
      " [1. 0.]\n",
      " [1. 0.]\n",
      " [1. 0.]\n",
      " [1. 0.]\n",
      " [0. 1.]]\n"
     ]
    }
   ],
   "source": [
    "a = np.vstack((np.ones(10), np.zeros(10))).T\n",
    "b = np.hstack([np.vstack((np.ones(5), np.zeros(5))), np.vstack((np.zeros(5), np.ones(5)))]).T\n",
    "c = np.hstack([np.vstack((np.ones(9), np.zeros(9))), np.vstack((np.zeros(1), np.ones(1)))]).T\n",
    "print('a:\\n{}\\nb:\\n{}\\nc:\\n{}'.format(a, b, c))"
   ]
  },
  {
   "cell_type": "code",
   "execution_count": 9,
   "metadata": {
    "deletable": false,
    "editable": false,
    "nbgrader": {
     "cell_type": "code",
     "checksum": "7277fd64c13a7527337d3aa34ea770a6",
     "grade": true,
     "grade_id": "cell-21e04aec10cadcc5",
     "locked": true,
     "points": 15,
     "schema_version": 2,
     "solution": false
    }
   },
   "outputs": [],
   "source": [
    "assert_almost_equal(H_2(a), 0.0, places=4)\n",
    "assert_almost_equal(H_2(b), 0.5, places=4)\n",
    "assert_almost_equal(H_2(c), 0.18, places=4)"
   ]
  },
  {
   "cell_type": "code",
   "execution_count": 10,
   "metadata": {
    "deletable": false,
    "editable": false,
    "nbgrader": {
     "cell_type": "code",
     "checksum": "1d7254a874e0d7ee1d5d2672c20afd9c",
     "grade": true,
     "grade_id": "cell-3b9909e9a54998a2",
     "locked": true,
     "points": 15,
     "schema_version": 2,
     "solution": false
    }
   },
   "outputs": [],
   "source": [
    "assert_almost_equal(H_3(a), 0.0, places=4)\n",
    "assert_almost_equal(H_3(b), 1.0, places=4)\n",
    "assert_almost_equal(H_3(c), 0.469, places=3)"
   ]
  },
  {
   "cell_type": "markdown",
   "metadata": {
    "deletable": false,
    "editable": false,
    "nbgrader": {
     "cell_type": "markdown",
     "checksum": "f1c2b2d99aa6dfc1820a3614b4654b77",
     "grade": false,
     "grade_id": "cell-d54229e2d8d0f7d3",
     "locked": true,
     "schema_version": 2,
     "solution": false
    }
   },
   "source": [
    "### Сложность дерева (15%)\n",
    "\n",
    "Запишите оценку сложности построения одного решающего дерева в зависимости от размера обучающей выборки $l$, числа признаков $d$, максимальной глубины дерева $D$. В качестве предикатов используются пороговые функции $[x_j>t]$. При выборе предиката в каждой вершине перебираются все признаки, а в качестве порогов рассматриваются величины $t$, равные значениям этого признака на объектах, попавших в текущую вершину. Считайте сложность вычисления критерия информативности на подвыборке константной (т.е. $O(1)$).\n",
    "\n",
    "Оценку сложности представьте в формате $O($`get_tree_complexity(D, l, d)`$)$, где `get_tree_complexity` - некоторая функция от $D$, $l$ и $d$. Функцию реализуйте ниже. \n",
    "\n",
    "Пример использования (числа и зависимости случайны):\n",
    "```\n",
    "def get_tree_complexity(D, l, d):\n",
    "    return D+l+d\n",
    "    \n",
    "a = get_tree_complexity(1, 2, 3)\n",
    "```\n",
    "Тогда число a == 6."
   ]
  },
  {
   "cell_type": "code",
   "execution_count": null,
   "metadata": {
    "deletable": false,
    "nbgrader": {
     "cell_type": "code",
     "checksum": "34437cc44d81b52065fadce9b1723a07",
     "grade": false,
     "grade_id": "cell-308d0bc0552dc640",
     "locked": false,
     "schema_version": 2,
     "solution": true
    }
   },
   "outputs": [],
   "source": [
    "def get_tree_complexity(D, l, d):\n",
    "    \"\"\"\n",
    "    Compute tree complexity in form O(\"some_expression\") and return the \"some_expression\".\n",
    "    \"\"\"\n",
    "    # YOUR CODE HERE\n",
    "    raise NotImplementedError()"
   ]
  },
  {
   "cell_type": "code",
   "execution_count": null,
   "metadata": {
    "deletable": false,
    "editable": false,
    "nbgrader": {
     "cell_type": "code",
     "checksum": "71024f2469e61cea05652f325011ad57",
     "grade": true,
     "grade_id": "cell-c1d94a3f25246434",
     "locked": true,
     "points": 15,
     "schema_version": 2,
     "solution": false
    }
   },
   "outputs": [],
   "source": [
    "#This cell is executed on the server side.\n"
   ]
  },
  {
   "cell_type": "markdown",
   "metadata": {
    "deletable": false,
    "editable": false,
    "nbgrader": {
     "cell_type": "markdown",
     "checksum": "efc138fb3be293c146ce5d7844e16b93",
     "grade": false,
     "grade_id": "cell-22395f2766a94a5f",
     "locked": true,
     "schema_version": 2,
     "solution": false
    }
   },
   "source": [
    "### Bootstrap (40%)\n",
    "\n",
    "В данной задаче необходимо вычислить вероятность попадания объекта в boostrap-выборку, а затем оценить ее численно.\n",
    "\n",
    "\n",
    "Пусть выборка $\\hat{X}^{n}$ размера $n$ сгененирована методом bootstrap на основе выборки $X^{n}={\\boldsymbol{x}_{1},\\dots\\boldsymbol{x}_{n}}$. Найдите вероятность попадания объекта $x_{i}$ в выборку $\\hat{X}^{n}$ и вычислите ее для случая $n\\rightarrow\\infty$. Реализуйте функцию `probability_to_get_into_X_b`, которая возвращает эту вероятность как число от `0` до `1`. В качесте экспоненты можете использовать `math.exp(1)`."
   ]
  },
  {
   "cell_type": "code",
   "execution_count": null,
   "metadata": {
    "deletable": false,
    "nbgrader": {
     "cell_type": "code",
     "checksum": "ebe08149029002ed66e48c0a346fd78c",
     "grade": false,
     "grade_id": "cell-7eb9bac07b24f610",
     "locked": false,
     "schema_version": 2,
     "solution": true
    }
   },
   "outputs": [],
   "source": [
    "def probability_to_get_into_X_b():\n",
    "    # YOUR CODE HERE\n",
    "    raise NotImplementedError()"
   ]
  },
  {
   "cell_type": "code",
   "execution_count": null,
   "metadata": {
    "deletable": false,
    "editable": false,
    "nbgrader": {
     "cell_type": "code",
     "checksum": "45d75ad82ef5d0a9703fbbdf0a1de6ac",
     "grade": true,
     "grade_id": "cell-af82cb6ae582ba18",
     "locked": true,
     "points": 15,
     "schema_version": 2,
     "solution": false
    }
   },
   "outputs": [],
   "source": [
    "assert_almost_equal(probability_to_get_into_X_b(), 0.6, places=1)"
   ]
  },
  {
   "cell_type": "markdown",
   "metadata": {
    "deletable": false,
    "editable": false,
    "nbgrader": {
     "cell_type": "markdown",
     "checksum": "cde4621bf8658144e3ccedd582ac7b2d",
     "grade": false,
     "grade_id": "cell-ef57536fae6e40cf",
     "locked": true,
     "schema_version": 2,
     "solution": false
    }
   },
   "source": [
    "Реализуйте свою функцию, генерирующую bootstrap-выборку из исходной. Пусть исходная выборка представлена в виде `numpy`-массива (например, `np.arange(100)`). Тогда bootstrap-выборка тоже должна быть `numpy`-массивом тех же размеров, что и исходная."
   ]
  },
  {
   "cell_type": "code",
   "execution_count": null,
   "metadata": {
    "deletable": false,
    "nbgrader": {
     "cell_type": "code",
     "checksum": "2fdb45bec0423f0b3b768f58339f389a",
     "grade": false,
     "grade_id": "cell-ca47d09d4086906c",
     "locked": false,
     "schema_version": 2,
     "solution": true
    }
   },
   "outputs": [],
   "source": [
    "def my_bootstrap(X):\n",
    "    \"\"\"\n",
    "    Implement the function that returns the \n",
    "    bootstraped dataset of the same size the\n",
    "    original dataset was.\n",
    "    \"\"\"\n",
    "    # YOUR CODE HERE\n",
    "    raise NotImplementedError()"
   ]
  },
  {
   "cell_type": "markdown",
   "metadata": {
    "deletable": false,
    "editable": false,
    "nbgrader": {
     "cell_type": "markdown",
     "checksum": "c5a2cfdc340c3ea0b9e9a6957a4ec437",
     "grade": false,
     "grade_id": "cell-7001d405cc4dd4fe",
     "locked": true,
     "schema_version": 2,
     "solution": false
    }
   },
   "source": [
    "Численно оцените вероятность попадания объекта исходной выборки в bootstrap-выборку для размера выборки `N`. Функция `get_sample_proba` должна возвращать число от `0` до `1`. \n",
    "\n",
    "Не забывайте, что мы живем в случайном мире ;)"
   ]
  },
  {
   "cell_type": "code",
   "execution_count": null,
   "metadata": {
    "deletable": false,
    "nbgrader": {
     "cell_type": "code",
     "checksum": "b83d153f7ba126e22261b85299aec9ea",
     "grade": false,
     "grade_id": "cell-2130b11bcc59a562",
     "locked": false,
     "schema_version": 2,
     "solution": true
    }
   },
   "outputs": [],
   "source": [
    "def get_sample_proba(N):\n",
    "    # YOUR CODE HERE\n",
    "    raise NotImplementedError()\n",
    "    return sample_proba"
   ]
  },
  {
   "cell_type": "code",
   "execution_count": null,
   "metadata": {
    "deletable": false,
    "editable": false,
    "nbgrader": {
     "cell_type": "code",
     "checksum": "92160f85f5980fdfef211461b96bc1e0",
     "grade": true,
     "grade_id": "cell-b68c7adb5c5e5a86",
     "locked": true,
     "points": 25,
     "schema_version": 2,
     "solution": false
    }
   },
   "outputs": [],
   "source": [
    "#This cell is executed on the server side.\n"
   ]
  },
  {
   "cell_type": "markdown",
   "metadata": {
    "deletable": false,
    "editable": false,
    "nbgrader": {
     "cell_type": "markdown",
     "checksum": "f5d7187d52e3cb85e7a842b3356a731f",
     "grade": false,
     "grade_id": "cell-83e743783a39e10a",
     "locked": true,
     "schema_version": 2,
     "solution": false
    }
   },
   "source": [
    "Поздравляем, задание завершено. Не забудьте остановить свой виртуальный инстанс перед уходом (Control Panel -> Stop My Server)."
   ]
  }
 ],
 "metadata": {
  "kernelspec": {
   "display_name": "Python 3",
   "language": "python",
   "name": "python3"
  },
  "language_info": {
   "codemirror_mode": {
    "name": "ipython",
    "version": 3
   },
   "file_extension": ".py",
   "mimetype": "text/x-python",
   "name": "python",
   "nbconvert_exporter": "python",
   "pygments_lexer": "ipython3",
   "version": "3.7.2"
  },
  "toc": {
   "base_numbering": 1,
   "nav_menu": {},
   "number_sections": true,
   "sideBar": true,
   "skip_h1_title": false,
   "title_cell": "Table of Contents",
   "title_sidebar": "Contents",
   "toc_cell": false,
   "toc_position": {},
   "toc_section_display": true,
   "toc_window_display": false
  }
 },
 "nbformat": 4,
 "nbformat_minor": 2
}
