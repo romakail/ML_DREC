{
 "cells": [
  {
   "cell_type": "markdown",
   "metadata": {
    "colab_type": "text",
    "id": "v5Fj-ahf25os"
   },
   "source": [
    "# Домашнее задание №1: Классификация. \n",
    "# Логистическая регрессия и kNN."
   ]
  },
  {
   "cell_type": "markdown",
   "metadata": {},
   "source": [
    "*While the machines are being fixed.*"
   ]
  },
  {
   "cell_type": "markdown",
   "metadata": {},
   "source": [
    "Формат сдачи будет объявлен позднее. Либо это будет проверяющая система, либо telegram-бот. "
   ]
  },
  {
   "cell_type": "markdown",
   "metadata": {
    "colab_type": "text",
    "id": "I6Hq7E5o25ou"
   },
   "source": [
    "<span style=\"color: red; font-size: 14pt\">Дедлайны: \n",
    "* ФИВТ, третий курс - 4 марта 23:59\n",
    "* Открытый курс - 7 марта, 23:59\n",
    "</span>"
   ]
  },
  {
   "cell_type": "markdown",
   "metadata": {
    "colab_type": "text",
    "id": "qZX1Urv425ov"
   },
   "source": [
    "### Часть 1. Небольшой numpy-разогрев. (10%)"
   ]
  },
  {
   "cell_type": "code",
   "execution_count": 1,
   "metadata": {
    "colab": {
     "autoexec": {
      "startup": false,
      "wait_interval": 0
     }
    },
    "colab_type": "code",
    "id": "ABwrGwvF25ow"
   },
   "outputs": [],
   "source": [
    "import numpy as np\n",
    "import pandas as pd"
   ]
  },
  {
   "cell_type": "code",
   "execution_count": 2,
   "metadata": {
    "colab": {
     "autoexec": {
      "startup": false,
      "wait_interval": 0
     }
    },
    "colab_type": "code",
    "id": "GYgIRlqf25o0"
   },
   "outputs": [
    {
     "data": {
      "text/plain": [
       "array([[2, 8, 2, 1, 0, 1, 9, 5, 3, 8],\n",
       "       [2, 9, 7, 7, 6, 4, 2, 0, 5, 1],\n",
       "       [3, 8, 1, 4, 4, 1, 2, 4, 7, 9],\n",
       "       [7, 3, 9, 6, 6, 2, 9, 6, 0, 5],\n",
       "       [4, 2, 7, 7, 9, 3, 2, 4, 8, 6],\n",
       "       [6, 0, 7, 4, 8, 0, 5, 1, 3, 0],\n",
       "       [4, 9, 0, 8, 4, 2, 4, 6, 9, 0],\n",
       "       [1, 0, 8, 7, 2, 5, 4, 2, 7, 6],\n",
       "       [6, 9, 4, 0, 8, 9, 1, 6, 4, 0],\n",
       "       [1, 1, 0, 9, 7, 7, 4, 9, 5, 4]])"
      ]
     },
     "execution_count": 2,
     "metadata": {},
     "output_type": "execute_result"
    }
   ],
   "source": [
    "# Создайте случайную матрицу A размерами 10 на 10 из целых чисел от 0 до 100\n",
    "# hint: np.random.randint\n",
    "\n",
    "# Ваш код здесь\n",
    "\n",
    "A = np.random.randint(10, size = (10, 10))\n",
    "A"
   ]
  },
  {
   "cell_type": "code",
   "execution_count": 3,
   "metadata": {
    "colab": {
     "autoexec": {
      "startup": false,
      "wait_interval": 0
     }
    },
    "colab_type": "code",
    "id": "7aB62Lzk25o2"
   },
   "outputs": [
    {
     "data": {
      "text/plain": [
       "array([3.6, 4.9, 4.5, 5.3, 5.4, 3.4, 4.2, 4.3, 5.1, 3.9])"
      ]
     },
     "execution_count": 3,
     "metadata": {},
     "output_type": "execute_result"
    }
   ],
   "source": [
    "# Посчитайте средние значения в матрице по столбцам\n",
    "\n",
    "# Ваш код здесь\n",
    "\n",
    "mean_val = np.mean (A, 0)\n",
    "mean_val"
   ]
  },
  {
   "cell_type": "code",
   "execution_count": 4,
   "metadata": {
    "colab": {
     "autoexec": {
      "startup": false,
      "wait_interval": 0
     }
    },
    "colab_type": "code",
    "id": "MTLnNqV425o5"
   },
   "outputs": [
    {
     "data": {
      "text/plain": [
       "array([[2, 2, 3, 7, 4, 6, 4, 1, 6, 1],\n",
       "       [8, 9, 8, 3, 2, 0, 9, 0, 9, 1],\n",
       "       [2, 7, 1, 9, 7, 7, 0, 8, 4, 0],\n",
       "       [1, 7, 4, 6, 7, 4, 8, 7, 0, 9],\n",
       "       [0, 6, 4, 6, 9, 8, 4, 2, 8, 7],\n",
       "       [1, 4, 1, 2, 3, 0, 2, 5, 9, 7],\n",
       "       [9, 2, 2, 9, 2, 5, 4, 4, 1, 4],\n",
       "       [5, 0, 4, 6, 4, 1, 6, 2, 6, 9],\n",
       "       [3, 5, 7, 0, 8, 3, 9, 7, 4, 5],\n",
       "       [8, 1, 9, 5, 6, 0, 0, 6, 0, 4]])"
      ]
     },
     "execution_count": 4,
     "metadata": {},
     "output_type": "execute_result"
    }
   ],
   "source": [
    "# Транспонируйте матрицу A\n",
    "\n",
    "# Ваш код здесь\n",
    "\n",
    "A_T = A.T\n",
    "A_T"
   ]
  },
  {
   "cell_type": "code",
   "execution_count": 5,
   "metadata": {
    "colab": {
     "autoexec": {
      "startup": false,
      "wait_interval": 0
     }
    },
    "colab_type": "code",
    "id": "WgDUhrYV25o8"
   },
   "outputs": [
    {
     "data": {
      "text/plain": [
       "array([[ 4, 16,  6,  7,  0,  6, 36,  5, 18,  8],\n",
       "       [16, 81, 56, 21, 12,  0, 18,  0, 45,  1],\n",
       "       [ 6, 56,  1, 36, 28,  7,  0, 32, 28,  0],\n",
       "       [ 7, 21, 36, 36, 42,  8, 72, 42,  0, 45],\n",
       "       [ 0, 12, 28, 42, 81, 24,  8,  8, 64, 42],\n",
       "       [ 6,  0,  7,  8, 24,  0, 10,  5, 27,  0],\n",
       "       [36, 18,  0, 72,  8, 10, 16, 24,  9,  0],\n",
       "       [ 5,  0, 32, 42,  8,  5, 24,  4, 42, 54],\n",
       "       [18, 45, 28,  0, 64, 27,  9, 42, 16,  0],\n",
       "       [ 8,  1,  0, 45, 42,  0,  0, 54,  0, 16]])"
      ]
     },
     "execution_count": 5,
     "metadata": {},
     "output_type": "execute_result"
    }
   ],
   "source": [
    "# Перемножьте поэлементно матрицу A и транспонированную матрицу A \n",
    "\n",
    "# Ваш код здесь\n",
    "\n",
    "multiplication = A * A_T\n",
    "multiplication"
   ]
  },
  {
   "cell_type": "code",
   "execution_count": 6,
   "metadata": {
    "colab": {
     "autoexec": {
      "startup": false,
      "wait_interval": 0
     }
    },
    "colab_type": "code",
    "id": "xwgLyFDD25o9"
   },
   "outputs": [
    {
     "data": {
      "text/plain": [
       "array([[253, 142, 208, 215, 158,  89, 183, 145, 152, 154],\n",
       "       [142, 265, 189, 213, 240, 162, 230, 188, 227, 181],\n",
       "       [208, 189, 257, 191, 232, 108, 229, 171, 189, 197],\n",
       "       [215, 213, 191, 357, 271, 228, 203, 221, 216, 230],\n",
       "       [158, 240, 232, 271, 328, 211, 236, 250, 227, 261],\n",
       "       [ 89, 162, 108, 228, 211, 200, 141, 149, 151, 142],\n",
       "       [183, 230, 229, 203, 236, 141, 314, 169, 231, 242],\n",
       "       [145, 188, 171, 221, 250, 149, 169, 248, 143, 206],\n",
       "       [152, 227, 189, 216, 227, 151, 231, 143, 331, 212],\n",
       "       [154, 181, 197, 230, 261, 142, 242, 206, 212, 319]])"
      ]
     },
     "execution_count": 6,
     "metadata": {},
     "output_type": "execute_result"
    }
   ],
   "source": [
    "# Посчитайте dot product (результат матричного умножения) матрицы A на саму себя и запишите в матрицу B\n",
    "# https://en.wikipedia.org/wiki/Dot_product\n",
    "\n",
    "# Ваш код здесь\n",
    "\n",
    "dot_product = np.dot (A, A_T)\n",
    "dot_product"
   ]
  },
  {
   "cell_type": "markdown",
   "metadata": {
    "colab_type": "text",
    "id": "9S8tqIMG25pb"
   },
   "source": [
    "### Часть 2. Логистическая регрессия и kNN."
   ]
  },
  {
   "cell_type": "markdown",
   "metadata": {
    "colab_type": "text",
    "id": "T2docs4225pb"
   },
   "source": [
    "Будем работать с подвыборкой из [данных о типе лесного покрытия из репозитория UCI](http://archive.ics.uci.edu/ml/datasets/Covertype). Доступно 7 различных классов. Каждый объект описывается 54 признаками, 40 из которых являются бинарными. Описание данных доступно по ссылке, а так же в файле `covtype.info.txt`."
   ]
  },
  {
   "cell_type": "code",
   "execution_count": 7,
   "metadata": {
    "colab": {
     "autoexec": {
      "startup": false,
      "wait_interval": 0
     }
    },
    "colab_type": "code",
    "id": "rvPrVRvK25pc"
   },
   "outputs": [],
   "source": [
    "all_data = pd.read_csv('forest_dataset.csv')"
   ]
  },
  {
   "cell_type": "markdown",
   "metadata": {
    "colab_type": "text",
    "id": "DrX0W5si25pe"
   },
   "source": [
    "Выделите 20% данных в `delayed_data` в качестве выборки, на которой будет производиться финальное сравнение моделей, в `all_data` поместите оставшиеся 80%."
   ]
  },
  {
   "cell_type": "code",
   "execution_count": 8,
   "metadata": {
    "colab": {
     "autoexec": {
      "startup": false,
      "wait_interval": 0
     }
    },
    "colab_type": "code",
    "id": "Deu3A-yc25pf"
   },
   "outputs": [],
   "source": [
    "# Ваш код здесь\n",
    "# print (all_data)\n",
    "\n",
    "\n",
    "delayed_data = all_data.sample (n=2000)\n",
    "all_data = all_data.drop (index=delayed_data.index)\n",
    "\n",
    "# print (all_data.shape(0))\n",
    "# print (delayed_data.shape)\n",
    "# print (delayed_data.index)\n",
    "# print (all_data)\n"
   ]
  },
  {
   "cell_type": "markdown",
   "metadata": {
    "colab_type": "text",
    "id": "itCWxHEY25pg"
   },
   "source": [
    "Выделим значения метки класса в переменную `labels`, признаковые описания в переменную `feature_matrix`. Так как данные числовые и не имеют пропусков, переведем их в `numpy`-формат с помощью метода `.values`."
   ]
  },
  {
   "cell_type": "code",
   "execution_count": 9,
   "metadata": {
    "colab": {
     "autoexec": {
      "startup": false,
      "wait_interval": 0
     }
    },
    "colab_type": "code",
    "id": "f_YIUOuV25ph"
   },
   "outputs": [],
   "source": [
    "labels = all_data[all_data.columns[-1]].values\n",
    "feature_matrix = all_data[all_data.columns[:-1]].values\n",
    "\n",
    "# print (labels)\n",
    "# print ('--')\n",
    "# print (feature_matrix)"
   ]
  },
  {
   "cell_type": "markdown",
   "metadata": {
    "colab_type": "text",
    "id": "dKCiU0wz25pj"
   },
   "source": [
    "#### 2.1 Двуклассовая классификация (10%)"
   ]
  },
  {
   "cell_type": "markdown",
   "metadata": {
    "colab_type": "text",
    "id": "LYDttiOJ25pj"
   },
   "source": [
    "Для начала будем работать только с двумя типами лесного покрытия. Обучите линейный классификатор для разделения двух классов. Данные разделите на train и test с помощью `train_test_split`."
   ]
  },
  {
   "cell_type": "code",
   "execution_count": 10,
   "metadata": {
    "colab": {
     "autoexec": {
      "startup": false,
      "wait_interval": 0
     }
    },
    "colab_type": "code",
    "id": "Q030jzyY25pl"
   },
   "outputs": [],
   "source": [
    "from sklearn.model_selection import train_test_split\n",
    "\n",
    "from sklearn.linear_model import LogisticRegression\n",
    "from sklearn.metrics import f1_score, accuracy_score"
   ]
  },
  {
   "cell_type": "code",
   "execution_count": 11,
   "metadata": {
    "colab": {
     "autoexec": {
      "startup": false,
      "wait_interval": 0
     }
    },
    "colab_type": "code",
    "id": "taWX6ME925pn"
   },
   "outputs": [],
   "source": [
    "two_class_labels_indices = (labels == 1) + (labels == 2)\n",
    "\n",
    "two_class_feature_matrix = feature_matrix[two_class_labels_indices]\n",
    "two_class_labels = labels[two_class_labels_indices]\n",
    "\n",
    "# print (two_class_feature_matrix.shape)\n",
    "# print (two_class_labels.shape)\n"
   ]
  },
  {
   "cell_type": "code",
   "execution_count": 12,
   "metadata": {
    "colab": {
     "autoexec": {
      "startup": false,
      "wait_interval": 0
     }
    },
    "colab_type": "code",
    "id": "zoQPXD_k25po"
   },
   "outputs": [],
   "source": [
    "train_feature_matrix, test_feature_matrix, train_labels, test_labels = train_test_split (two_class_feature_matrix, two_class_labels, test_size=0.2)\n",
    "\n",
    "# print (train_feature_matrix.shape)\n",
    "# print (test_feature_matrix.shape)\n",
    "# print (train_labels.shape)\n",
    "# print (test_labels.shape)"
   ]
  },
  {
   "cell_type": "markdown",
   "metadata": {
    "colab_type": "text",
    "id": "A8iDa9Je25pq"
   },
   "source": [
    "Обучите логистическую регрессию. Оцените качество классификации на отложенной выборке с помощью `accuracy` и `f1_score` ([Wikipedia](https://en.wikipedia.org/wiki/F1_score))."
   ]
  },
  {
   "cell_type": "code",
   "execution_count": 13,
   "metadata": {
    "colab": {
     "autoexec": {
      "startup": false,
      "wait_interval": 0
     }
    },
    "colab_type": "code",
    "id": "9CKtjwv_25pr"
   },
   "outputs": [],
   "source": [
    "lr_clf = LogisticRegression()"
   ]
  },
  {
   "cell_type": "code",
   "execution_count": 14,
   "metadata": {
    "colab": {
     "autoexec": {
      "startup": false,
      "wait_interval": 0
     }
    },
    "colab_type": "code",
    "id": "VF2CeR7W25pt"
   },
   "outputs": [
    {
     "name": "stdout",
     "output_type": "stream",
     "text": [
      "LogisticRegression(C=1.0, class_weight=None, dual=False, fit_intercept=True,\n",
      "          intercept_scaling=1, max_iter=100, multi_class='ovr', n_jobs=1,\n",
      "          penalty='l2', random_state=None, solver='liblinear', tol=0.0001,\n",
      "          verbose=0, warm_start=False)\n",
      "Accuracy =  0.7692867540029112 F1_score =  0.7278969957081544\n"
     ]
    }
   ],
   "source": [
    "# Ваш код здесь\n",
    "lr_clf.fit(train_feature_matrix, train_labels)\n",
    "print (lr_clf)\n",
    "\n",
    "F1 = f1_score (test_labels, lr_clf.predict(test_feature_matrix))\n",
    "ACC = accuracy_score (test_labels, lr_clf.predict(test_feature_matrix))\n",
    "print (\"Accuracy = \", ACC, \"F1_score = \", F1)"
   ]
  },
  {
   "cell_type": "markdown",
   "metadata": {
    "colab_type": "text",
    "id": "9MKHZ2JC25pv"
   },
   "source": [
    "#### 2.2 Многоклассовая классификация: логистическая регрессия (40%)"
   ]
  },
  {
   "cell_type": "markdown",
   "metadata": {
    "colab_type": "text",
    "id": "P1mWe4kJ25pv"
   },
   "source": [
    "**Комментарий:**\n",
    "\n",
    "*Логистическая регрессия позволяет решать и задачу многоклассовой классификации. Класс ``LogisticRegression`` позвляет это делать двумя способами:* \n",
    "- *1. Стандартный One vs Rest (т.е. каждый класс отделяется от всех других). Параметр `multi_class='ovr'`.*\n",
    "- *2. Используюя кросс-энтропию (оценивается сразу вектор вероятностей принадлежности классам). Параметр `multi_class='multinomial'`.*\n",
    "\n",
    "*По умолчанию будем использовать второй способ.*\n"
   ]
  },
  {
   "cell_type": "code",
   "execution_count": 15,
   "metadata": {},
   "outputs": [],
   "source": [
    "from sklearn.model_selection import GridSearchCV"
   ]
  },
  {
   "cell_type": "markdown",
   "metadata": {
    "colab_type": "text",
    "id": "BGn7U05I25pw"
   },
   "source": [
    "Теперь будем работать со всеми 7 типами покрытия (данные уже находятся в переменных `feature_matrix` и `labels`, если Вы их не переопределили). Разделите выборку на обучающую и тестовую с помощью метода `train_test_split`, используйте значения параметров `test_size=0.2`, `random_state=42`. Обучите логистическую регрессию  на данном датасете."
   ]
  },
  {
   "cell_type": "code",
   "execution_count": 16,
   "metadata": {
    "colab": {
     "autoexec": {
      "startup": false,
      "wait_interval": 0
     }
    },
    "colab_type": "code",
    "id": "xqzEKcdD25px"
   },
   "outputs": [
    {
     "data": {
      "text/plain": [
       "LogisticRegression(C=1.0, class_weight=None, dual=False, fit_intercept=True,\n",
       "          intercept_scaling=1, max_iter=100, multi_class='ovr', n_jobs=1,\n",
       "          penalty='l2', random_state=None, solver='liblinear', tol=0.0001,\n",
       "          verbose=0, warm_start=False)"
      ]
     },
     "execution_count": 16,
     "metadata": {},
     "output_type": "execute_result"
    }
   ],
   "source": [
    "# Ваш код здесь\n",
    "\n",
    "train_feature_matrix, test_feature_matrix, train_labels, test_labels = train_test_split (feature_matrix, labels, test_size=0.2, random_state=42)\n",
    "\n",
    "lr_clf = LogisticRegression() # can change lib here to turn to multinomial\n",
    "\n",
    "lr_clf.fit (train_feature_matrix, train_labels)"
   ]
  },
  {
   "cell_type": "markdown",
   "metadata": {
    "colab_type": "text",
    "id": "5QqTntPq25p0"
   },
   "source": [
    "С помощью 5-кратной кросс-валидации (`GridSearchCV`) подберите оптимальное значение параметров `С` и `penalty`. Для параметра `C` используйте набор значений `np.linspace(0.01, 1, 10)`, а для `penalty` - `['l1', 'l2']`. Критерий качества `scoring = 'accuracy'`."
   ]
  },
  {
   "cell_type": "code",
   "execution_count": 17,
   "metadata": {
    "colab": {
     "autoexec": {
      "startup": false,
      "wait_interval": 0
     }
    },
    "colab_type": "code",
    "id": "j-M-porJ25p0"
   },
   "outputs": [],
   "source": [
    "# Ваш код здесь\n",
    "\n",
    "param_grid = {'C'      :np.linspace(0.01, 1, 10),\n",
    "              'penalty':['l1', 'l2']}\n",
    "grid_cv = GridSearchCV (lr_clf, param_grid, scoring='accuracy', cv=5)\n",
    "# print ('gs_cv = ', grid_cv)\n",
    "# grid_cv.get_params()"
   ]
  },
  {
   "cell_type": "markdown",
   "metadata": {
    "colab_type": "text",
    "id": "rzsRzpiv25p2"
   },
   "source": [
    "Постройте графики средних значений критерия качества `accuracy` для типов регуляризации `l1` и `l2` в зависимости от коэффициента регуляризации `C`."
   ]
  },
  {
   "cell_type": "code",
   "execution_count": 18,
   "metadata": {
    "colab": {
     "autoexec": {
      "startup": false,
      "wait_interval": 0
     }
    },
    "colab_type": "code",
    "id": "nYOrtHpy25p3"
   },
   "outputs": [
    {
     "data": {
      "text/plain": [
       "GridSearchCV(cv=5, error_score='raise',\n",
       "       estimator=LogisticRegression(C=1.0, class_weight=None, dual=False, fit_intercept=True,\n",
       "          intercept_scaling=1, max_iter=100, multi_class='ovr', n_jobs=1,\n",
       "          penalty='l2', random_state=None, solver='liblinear', tol=0.0001,\n",
       "          verbose=0, warm_start=False),\n",
       "       fit_params=None, iid=True, n_jobs=1,\n",
       "       param_grid={'C': array([0.01, 0.12, 0.23, 0.34, 0.45, 0.56, 0.67, 0.78, 0.89, 1.  ]), 'penalty': ['l1', 'l2']},\n",
       "       pre_dispatch='2*n_jobs', refit=True, return_train_score='warn',\n",
       "       scoring='accuracy', verbose=0)"
      ]
     },
     "execution_count": 18,
     "metadata": {},
     "output_type": "execute_result"
    }
   ],
   "source": [
    "# Ваш код здесь\n",
    "\n",
    "grid_cv.fit (train_feature_matrix, train_labels)\n",
    "# grid_cv.score(test_feature_matrix, test_labels)"
   ]
  },
  {
   "cell_type": "code",
   "execution_count": 19,
   "metadata": {},
   "outputs": [],
   "source": [
    "%matplotlib inline\n",
    "import matplotlib.pyplot as plt"
   ]
  },
  {
   "cell_type": "code",
   "execution_count": 20,
   "metadata": {},
   "outputs": [
    {
     "name": "stderr",
     "output_type": "stream",
     "text": [
      "/home/roma/anaconda3/lib/python3.7/site-packages/sklearn/utils/deprecation.py:122: FutureWarning: You are accessing a training score ('split0_train_score'), which will not be available by default any more in 0.21. If you need training scores, please set return_train_score=True\n",
      "  warnings.warn(*warn_args, **warn_kwargs)\n",
      "/home/roma/anaconda3/lib/python3.7/site-packages/sklearn/utils/deprecation.py:122: FutureWarning: You are accessing a training score ('split1_train_score'), which will not be available by default any more in 0.21. If you need training scores, please set return_train_score=True\n",
      "  warnings.warn(*warn_args, **warn_kwargs)\n",
      "/home/roma/anaconda3/lib/python3.7/site-packages/sklearn/utils/deprecation.py:122: FutureWarning: You are accessing a training score ('split2_train_score'), which will not be available by default any more in 0.21. If you need training scores, please set return_train_score=True\n",
      "  warnings.warn(*warn_args, **warn_kwargs)\n",
      "/home/roma/anaconda3/lib/python3.7/site-packages/sklearn/utils/deprecation.py:122: FutureWarning: You are accessing a training score ('split3_train_score'), which will not be available by default any more in 0.21. If you need training scores, please set return_train_score=True\n",
      "  warnings.warn(*warn_args, **warn_kwargs)\n",
      "/home/roma/anaconda3/lib/python3.7/site-packages/sklearn/utils/deprecation.py:122: FutureWarning: You are accessing a training score ('split4_train_score'), which will not be available by default any more in 0.21. If you need training scores, please set return_train_score=True\n",
      "  warnings.warn(*warn_args, **warn_kwargs)\n",
      "/home/roma/anaconda3/lib/python3.7/site-packages/sklearn/utils/deprecation.py:122: FutureWarning: You are accessing a training score ('mean_train_score'), which will not be available by default any more in 0.21. If you need training scores, please set return_train_score=True\n",
      "  warnings.warn(*warn_args, **warn_kwargs)\n",
      "/home/roma/anaconda3/lib/python3.7/site-packages/sklearn/utils/deprecation.py:122: FutureWarning: You are accessing a training score ('std_train_score'), which will not be available by default any more in 0.21. If you need training scores, please set return_train_score=True\n",
      "  warnings.warn(*warn_args, **warn_kwargs)\n"
     ]
    },
    {
     "data": {
      "image/png": "[encoded data removed]",
      "text/plain": [
       "<Figure size 720x432 with 1 Axes>"
      ]
     },
     "metadata": {
      "needs_background": "light"
     },
     "output_type": "display_data"
    }
   ],
   "source": [
    "results = pd.DataFrame(grid_cv.cv_results_)\n",
    "\n",
    "l1_res = results[results['param_penalty'] == 'l1']\n",
    "l2_res = results[results['param_penalty'] == 'l2']\n",
    "\n",
    "fig = plt.figure(figsize=(10, 6))\n",
    "\n",
    "axes = fig.add_axes([0.1, 0.1, 0.8, 0.8])\n",
    "\n",
    "axes.plot(l1_res['param_C'], l1_res['mean_test_score'])\n",
    "axes.plot(l2_res['param_C'], l2_res['mean_test_score'])\n",
    "\n",
    "plt.show()"
   ]
  },
  {
   "cell_type": "markdown",
   "metadata": {
    "colab_type": "text",
    "id": "IQraNf0M25p5"
   },
   "source": [
    "Проанализируйте полученные графики. Чему равны найденные оптимальные значения параметров `C` и `penalty`?"
   ]
  },
  {
   "cell_type": "code",
   "execution_count": 21,
   "metadata": {
    "colab": {
     "autoexec": {
      "startup": false,
      "wait_interval": 0
     }
    },
    "colab_type": "code",
    "id": "BkT1RWJj25p7"
   },
   "outputs": [
    {
     "name": "stdout",
     "output_type": "stream",
     "text": [
      "best score =  0.70984375\n",
      "best params : {'C': 1.0, 'penalty': 'l1'}\n"
     ]
    }
   ],
   "source": [
    "# Ваш код здесь\n",
    "print ('best score = ', grid_cv.best_score_)\n",
    "print ('best params :', grid_cv.best_params_)"
   ]
  },
  {
   "cell_type": "markdown",
   "metadata": {
    "colab_type": "text",
    "id": "uIX7uVYk25p9"
   },
   "source": [
    "Используя найденные оптимальные значения `C` и `penalty`, обучите логистическую регрессию на обучающей выборке (train) и вычислите вероятности принадлежности к классам для тестовой (test)  выборки (`best_lr_clf.predict_proba`)."
   ]
  },
  {
   "cell_type": "code",
   "execution_count": 22,
   "metadata": {
    "colab": {
     "autoexec": {
      "startup": false,
      "wait_interval": 0
     }
    },
    "colab_type": "code",
    "id": "1rDNazlC25p9"
   },
   "outputs": [
    {
     "name": "stdout",
     "output_type": "stream",
     "text": [
      "[[2.73478243e-01 7.14958410e-01 1.35909874e-03 ... 3.52125730e-03\n",
      "  4.96033906e-03 1.65424162e-03]\n",
      " [8.21980796e-01 1.75825586e-01 2.56267478e-05 ... 1.04477066e-04\n",
      "  3.08760692e-05 2.00941083e-03]\n",
      " [5.63190367e-02 7.91474951e-01 1.32722314e-02 ... 1.17556101e-01\n",
      "  2.08010372e-02 4.17300231e-04]\n",
      " ...\n",
      " [4.85312796e-01 4.99416602e-01 2.16058525e-04 ... 5.79267417e-04\n",
      "  5.25474928e-04 1.39490642e-02]\n",
      " [2.01534567e-01 7.78671671e-01 2.90409298e-03 ... 1.39601271e-02\n",
      "  1.87913198e-03 1.05009481e-03]\n",
      " [6.84560022e-02 9.04982669e-01 4.62061952e-03 ... 1.46156462e-02\n",
      "  7.06616185e-03 2.08037341e-04]]\n"
     ]
    }
   ],
   "source": [
    "# Ваш код здесь\n",
    "# print (grid_cv.best_params_['C'])\n",
    "# print (grid_cv.best_params_['penalty'])\n",
    "best_lr_clf = LogisticRegression(C=grid_cv.best_params_['C'], penalty=grid_cv.best_params_['penalty'])\n",
    "\n",
    "# print (train_feature_matrix)\n",
    "# print (train_labels)\n",
    "\n",
    "best_lr_clf.fit (train_feature_matrix, train_labels)\n",
    "\n",
    "predictions = best_lr_clf.predict_proba(test_feature_matrix)\n",
    "print (predictions)"
   ]
  },
  {
   "cell_type": "markdown",
   "metadata": {
    "colab_type": "text",
    "id": "Ck7T2dGQ25p_"
   },
   "source": [
    "Для полученной матрицы вычислите усредненные по всем объектам из тестовой выборки значения вероятностей принадлежности к классам. Сравните ее оценкой вероятности принадлежности к классу на основе частот меток классов в обучающей выборке."
   ]
  },
  {
   "cell_type": "code",
   "execution_count": 23,
   "metadata": {
    "colab": {
     "autoexec": {
      "startup": false,
      "wait_interval": 0
     }
    },
    "colab_type": "code",
    "id": "JOf0BNix25qA"
   },
   "outputs": [
    {
     "name": "stdout",
     "output_type": "stream",
     "text": [
      "[0.37680215 0.48861347 0.05942569 0.00338768 0.01320946 0.02686036\n",
      " 0.03170118]\n",
      "0 mean_prob =  0.3768021501084904 frequency =  0.37\n",
      "1 mean_prob =  0.48861347288647694 frequency =  0.48825\n",
      "2 mean_prob =  0.05942568547344435 frequency =  0.05775\n",
      "3 mean_prob =  0.003387681616296343 frequency =  0.005125\n",
      "4 mean_prob =  0.013209463623646712 frequency =  0.015625\n",
      "5 mean_prob =  0.026860363035338307 frequency =  0.02925\n",
      "6 mean_prob =  0.031701183256306845 frequency =  0.034\n"
     ]
    }
   ],
   "source": [
    "# Ваш код здесь\n",
    "mean_probabilities = np.mean (predictions, axis=0)\n",
    "print (mean_probabilities)\n",
    "\n",
    "frequencies = np.zeros(7)\n",
    "\n",
    "for i in range (labels.shape[0]):\n",
    "    frequencies[labels[i] - 1] += 1\n",
    "    \n",
    "frequencies = frequencies / labels.shape[0]\n",
    "\n",
    "for i in range (7):\n",
    "    print (i, 'mean_prob = ', mean_probabilities[i], 'frequency = ', frequencies[i])"
   ]
  },
  {
   "cell_type": "markdown",
   "metadata": {},
   "source": [
    "Вероятности попадания почти совпадают с частотами меток "
   ]
  },
  {
   "cell_type": "markdown",
   "metadata": {
    "colab_type": "text",
    "id": "VYogShkD25qD"
   },
   "source": [
    "#### 2.3 Многоклассовая классификация: kNN (30%)."
   ]
  },
  {
   "cell_type": "markdown",
   "metadata": {
    "colab_type": "text",
    "id": "BHVNCaJ325qD"
   },
   "source": [
    "Вспомним первое занятие. Обучите на том же датасете `KNeighborsClassifier` из `sklearn`."
   ]
  },
  {
   "cell_type": "code",
   "execution_count": 24,
   "metadata": {
    "colab": {
     "autoexec": {
      "startup": false,
      "wait_interval": 0
     }
    },
    "colab_type": "code",
    "id": "o4CMnnOY25qD"
   },
   "outputs": [
    {
     "data": {
      "text/plain": [
       "KNeighborsClassifier(algorithm='auto', leaf_size=30, metric='minkowski',\n",
       "           metric_params=None, n_jobs=1, n_neighbors=5, p=2,\n",
       "           weights='distance')"
      ]
     },
     "execution_count": 24,
     "metadata": {},
     "output_type": "execute_result"
    }
   ],
   "source": [
    "from sklearn.neighbors import KNeighborsClassifier\n",
    "\n",
    "# Ваш код здесь\n",
    "knn_clf = KNeighborsClassifier(weights='distance')\n",
    "knn_clf.fit (train_feature_matrix, train_labels)"
   ]
  },
  {
   "cell_type": "markdown",
   "metadata": {
    "colab_type": "text",
    "id": "Yl_foM3u25qF"
   },
   "source": [
    "Попробуйте использовать различные стратегии вычисления весов: `[‘uniform’, ‘distance’]`. Выберите одно из них самостоятельно. Чем обоснован Ваш выбор?"
   ]
  },
  {
   "cell_type": "markdown",
   "metadata": {
    "colab_type": "text",
    "id": "8WzoRJZd25qF"
   },
   "source": [
    "Переберите по сетке от `1` до `10` параметр числа соседей. Покажите на графике, как менялись значения критерия качества `accuracy` при изменении числа соседей."
   ]
  },
  {
   "cell_type": "code",
   "execution_count": 25,
   "metadata": {
    "colab": {
     "autoexec": {
      "startup": false,
      "wait_interval": 0
     }
    },
    "colab_type": "code",
    "id": "4lMSy-6f25qG"
   },
   "outputs": [],
   "source": [
    "# Ваш код здесь\n",
    "param_grid = {'n_neighbors':np.arange(1, 11),\n",
    "              'weights'     :['uniform', 'distance']}\n",
    "grid_cv = GridSearchCV (knn_clf, param_grid, scoring='accuracy', cv=5)"
   ]
  },
  {
   "cell_type": "code",
   "execution_count": 26,
   "metadata": {},
   "outputs": [
    {
     "data": {
      "text/plain": [
       "GridSearchCV(cv=5, error_score='raise',\n",
       "       estimator=KNeighborsClassifier(algorithm='auto', leaf_size=30, metric='minkowski',\n",
       "           metric_params=None, n_jobs=1, n_neighbors=5, p=2,\n",
       "           weights='distance'),\n",
       "       fit_params=None, iid=True, n_jobs=1,\n",
       "       param_grid={'n_neighbors': array([ 1,  2,  3,  4,  5,  6,  7,  8,  9, 10]), 'weights': ['uniform', 'distance']},\n",
       "       pre_dispatch='2*n_jobs', refit=True, return_train_score='warn',\n",
       "       scoring='accuracy', verbose=0)"
      ]
     },
     "execution_count": 26,
     "metadata": {},
     "output_type": "execute_result"
    }
   ],
   "source": [
    "grid_cv.fit(train_feature_matrix, train_labels)"
   ]
  },
  {
   "cell_type": "markdown",
   "metadata": {
    "colab_type": "text",
    "id": "aBmiDbvV25qI"
   },
   "source": [
    "Используя найденное оптимальное число соседей, вычислите вероятности принадлежности к классам для тестовой выборки (`.predict_proba`)."
   ]
  },
  {
   "cell_type": "code",
   "execution_count": 27,
   "metadata": {
    "colab": {
     "autoexec": {
      "startup": false,
      "wait_interval": 0
     }
    },
    "colab_type": "code",
    "id": "ig_vS8O925qI"
   },
   "outputs": [
    {
     "name": "stdout",
     "output_type": "stream",
     "text": [
      "best score =  0.7453125\n",
      "best params : {'n_neighbors': 4, 'weights': 'distance'}\n"
     ]
    }
   ],
   "source": [
    "# Ваш код здесь\n",
    "print ('best score = ', grid_cv.best_score_)\n",
    "print ('best params :', grid_cv.best_params_)"
   ]
  },
  {
   "cell_type": "code",
   "execution_count": 28,
   "metadata": {},
   "outputs": [
    {
     "name": "stderr",
     "output_type": "stream",
     "text": [
      "/home/roma/anaconda3/lib/python3.7/site-packages/sklearn/utils/deprecation.py:122: FutureWarning: You are accessing a training score ('split0_train_score'), which will not be available by default any more in 0.21. If you need training scores, please set return_train_score=True\n",
      "  warnings.warn(*warn_args, **warn_kwargs)\n",
      "/home/roma/anaconda3/lib/python3.7/site-packages/sklearn/utils/deprecation.py:122: FutureWarning: You are accessing a training score ('split1_train_score'), which will not be available by default any more in 0.21. If you need training scores, please set return_train_score=True\n",
      "  warnings.warn(*warn_args, **warn_kwargs)\n",
      "/home/roma/anaconda3/lib/python3.7/site-packages/sklearn/utils/deprecation.py:122: FutureWarning: You are accessing a training score ('split2_train_score'), which will not be available by default any more in 0.21. If you need training scores, please set return_train_score=True\n",
      "  warnings.warn(*warn_args, **warn_kwargs)\n",
      "/home/roma/anaconda3/lib/python3.7/site-packages/sklearn/utils/deprecation.py:122: FutureWarning: You are accessing a training score ('split3_train_score'), which will not be available by default any more in 0.21. If you need training scores, please set return_train_score=True\n",
      "  warnings.warn(*warn_args, **warn_kwargs)\n",
      "/home/roma/anaconda3/lib/python3.7/site-packages/sklearn/utils/deprecation.py:122: FutureWarning: You are accessing a training score ('split4_train_score'), which will not be available by default any more in 0.21. If you need training scores, please set return_train_score=True\n",
      "  warnings.warn(*warn_args, **warn_kwargs)\n",
      "/home/roma/anaconda3/lib/python3.7/site-packages/sklearn/utils/deprecation.py:122: FutureWarning: You are accessing a training score ('mean_train_score'), which will not be available by default any more in 0.21. If you need training scores, please set return_train_score=True\n",
      "  warnings.warn(*warn_args, **warn_kwargs)\n",
      "/home/roma/anaconda3/lib/python3.7/site-packages/sklearn/utils/deprecation.py:122: FutureWarning: You are accessing a training score ('std_train_score'), which will not be available by default any more in 0.21. If you need training scores, please set return_train_score=True\n",
      "  warnings.warn(*warn_args, **warn_kwargs)\n"
     ]
    },
    {
     "data": {
      "image/png": "[encoded data removed]",
      "text/plain": [
       "<Figure size 720x432 with 1 Axes>"
      ]
     },
     "metadata": {
      "needs_background": "light"
     },
     "output_type": "display_data"
    }
   ],
   "source": [
    "results = pd.DataFrame(grid_cv.cv_results_)\n",
    "# print (results)\n",
    "\n",
    "l1_res = results[results['param_weights'] == 'uniform']\n",
    "l2_res = results[results['param_weights'] == 'distance']\n",
    "\n",
    "fig = plt.figure(figsize=(10, 6))\n",
    "\n",
    "axes = fig.add_axes([0.1, 0.1, 0.8, 0.8])\n",
    "\n",
    "axes.plot(l1_res['param_n_neighbors'], l1_res['mean_test_score'])\n",
    "axes.plot(l2_res['param_n_neighbors'], l2_res['mean_test_score'])\n",
    "\n",
    "plt.show()"
   ]
  },
  {
   "cell_type": "code",
   "execution_count": 29,
   "metadata": {},
   "outputs": [
    {
     "name": "stdout",
     "output_type": "stream",
     "text": [
      "[[0.         1.         0.         ... 0.         0.         0.        ]\n",
      " [0.         1.         0.         ... 0.         0.         0.        ]\n",
      " [0.         0.74116375 0.         ... 0.25883625 0.         0.        ]\n",
      " ...\n",
      " [1.         0.         0.         ... 0.         0.         0.        ]\n",
      " [0.5304594  0.4695406  0.         ... 0.         0.         0.        ]\n",
      " [0.         0.67080986 0.32919014 ... 0.         0.         0.        ]]\n"
     ]
    }
   ],
   "source": [
    "best_knn_clf = KNeighborsClassifier(weights=grid_cv.best_params_['weights'], n_neighbors=grid_cv.best_params_['n_neighbors'])\n",
    "\n",
    "# print (train_feature_matrix)\n",
    "# print (train_labels)\n",
    "\n",
    "best_knn_clf.fit (train_feature_matrix, train_labels)\n",
    "\n",
    "predictions = best_knn_clf.predict_proba(test_feature_matrix)\n",
    "print (predictions)"
   ]
  },
  {
   "cell_type": "code",
   "execution_count": 30,
   "metadata": {},
   "outputs": [
    {
     "name": "stdout",
     "output_type": "stream",
     "text": [
      "[0.39579287 0.48135482 0.05799174 0.00486791 0.0117337  0.02402727\n",
      " 0.0242317 ]\n",
      "0 mean_porb =  0.3957928702891712 frequency =  0.37\n",
      "1 mean_porb =  0.48135482045821953 frequency =  0.48825\n",
      "2 mean_porb =  0.05799173549301033 frequency =  0.05775\n",
      "3 mean_porb =  0.004867910217727046 frequency =  0.005125\n",
      "4 mean_porb =  0.011733698822141717 frequency =  0.015625\n",
      "5 mean_porb =  0.02402726833967912 frequency =  0.02925\n",
      "6 mean_porb =  0.024231696380050974 frequency =  0.034\n"
     ]
    }
   ],
   "source": [
    "mean_probabilities = np.mean (predictions, axis=0)\n",
    "print (mean_probabilities)\n",
    "\n",
    "frequencies = np.zeros(7)\n",
    "\n",
    "for i in range (labels.shape[0]):\n",
    "    frequencies[labels[i] - 1] += 1\n",
    "    \n",
    "frequencies = frequencies / labels.shape[0]\n",
    "\n",
    "for i in range (7):\n",
    "    print (i, 'mean_porb = ', mean_probabilities[i], 'frequency = ', frequencies[i])"
   ]
  },
  {
   "cell_type": "markdown",
   "metadata": {
    "colab_type": "text",
    "id": "p41xvYTU25qK"
   },
   "source": [
    "#### 2.4 Сравнение результатов логистической регрессии и kNN (10%).\n",
    "\n",
    "В реальной жизни новые данные становятся доступны с течением времени. Сравните качество Вашей лучшей модели логистической регресии и лучшего kNN  на отложенной выборке `delayed_data`. Какая из моделей показала лучший результат?"
   ]
  },
  {
   "cell_type": "code",
   "execution_count": 31,
   "metadata": {
    "colab": {
     "autoexec": {
      "startup": false,
      "wait_interval": 0
     }
    },
    "colab_type": "code",
    "id": "xJFKTJx425qL"
   },
   "outputs": [
    {
     "name": "stdout",
     "output_type": "stream",
     "text": [
      "lnr_accuracy =  0.6975 knn_accuracy =  0.7575\n"
     ]
    }
   ],
   "source": [
    "# Ваш код здесь\n",
    "delayed_labels         = delayed_data[all_data.columns[-1]].values\n",
    "delayed_feature_matrix = delayed_data[all_data.columns[:-1]].values\n",
    "\n",
    "# lnr_accuracy = best_lr_clf .predict_proba(delayed_feature_matrix)\n",
    "# knn_accuracy = best_knn_clf.predict_proba(delayed_feature_matrix)\n",
    "\n",
    "lnr_accuracy = accuracy_score (delayed_labels, best_lr_clf .predict(delayed_feature_matrix))\n",
    "knn_accuracy = accuracy_score (delayed_labels, best_knn_clf.predict(delayed_feature_matrix))\n",
    "\n",
    "print ('lnr_accuracy = ', lnr_accuracy, 'knn_accuracy = ', knn_accuracy)"
   ]
  },
  {
   "cell_type": "markdown",
   "metadata": {},
   "source": [
    "knn выбил лучший результат чем линейная регрессия"
   ]
  }
 ],
 "metadata": {
  "colab": {
   "collapsed_sections": [
    "dKCiU0wz25pj",
    "9MKHZ2JC25pv",
    "VYogShkD25qD",
    "p41xvYTU25qK"
   ],
   "default_view": {},
   "name": "HW1_Logistic_regression_and_SVM.ipynb",
   "provenance": [],
   "version": "0.3.2",
   "views": {}
  },
  "kernelspec": {
   "display_name": "Python 3",
   "language": "python",
   "name": "python3"
  },
  "language_info": {
   "codemirror_mode": {
    "name": "ipython",
    "version": 3
   },
   "file_extension": ".py",
   "mimetype": "text/x-python",
   "name": "python",
   "nbconvert_exporter": "python",
   "pygments_lexer": "ipython3",
   "version": "3.7.2"
  }
 },
 "nbformat": 4,
 "nbformat_minor": 2
}
